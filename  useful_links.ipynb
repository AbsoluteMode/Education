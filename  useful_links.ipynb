{
 "cells": [
  {
   "cell_type": "markdown",
   "metadata": {},
   "source": [
    "### Полезные материалы\n",
    "**ВСЕ МАТЕРИАЛЫ БЕСПЛАТНЫЕ!!!**\n",
    "\n",
    "#### ML + DL\n",
    "- **ML** - Тренировки по ML от Яндекса: [Yandex](https://yandex.ru/yaintern/training/ml-training)\n",
    "- **ML** - Курс на английском по Data Science от Kaggle: [Kaggle](https://www.kaggle.com/learn)\n",
    "- **ML** - Лекции Евгения Соколова [HSE](https://www.youtube.com/watch?v=QVs8QjuAN74&list=PLEqoHzpnmTfChItexxg2ZfxCsm-8QPsdS)\n",
    "- **ML+** - Треки Open Data Science community [ODS](https://ods.ai/tracks)\n",
    "- **DL, math** - курс введет вас в базовые понятие нейросетей: [Stepik](https://stepik.org/course/100076/syllabus)\n",
    "- **DL - DLS** \n",
    "  - 1 семестр: [Stepik](https://stepik.org/course/181974/syllabus?search=4164855567)\n",
    "  - 2 семестр: [Stepik](https://stepik.org/course/196142/syllabus)\n",
    "- **DL (NLP)** - Курс на английском про обработку естественного языка: [Hugging Face](https://huggingface.co/learn/nlp-course/chapter1/1)\n",
    "- **DL (Transformer)** - Игорь Котенков введет понятие трансформеров: [YouTube](https://www.youtube.com/watch?v=iOrNbK2T92M)\n",
    "\n",
    "#### Программирование\n",
    "- **Python** - курс с которого начался мой hello world <3: [Stepik](https://stepik.org/course/63085/syllabus)\n",
    "- **ML/DL, Python, C++** - Автор канала selfedu классно и понятно рассказывает: [YouTube](https://www.youtube.com/@selfedu_rus)\n",
    "- **Основы C++** - [Stepik](https://stepik.org/course/363/syllabus)\n",
    "- **Algo** - Тренировки по алгосам Яндекса: [Yandex](https://yandex.ru/yaintern/algorithm-training_1ё)\n",
    "\n",
    "#### Математика\n",
    "- **Основы** - [Practicum](https://practicum.yandex.ru/profile/math-foundations/?from=catalog)\n",
    "- **Линейная алгебра + мат. анализ** - [Karpov Courses](https://karpov.courses/mathsds)\n",
    "- **Статистика** - [Stepik](https://stepik.org/course/76/syllabus)\n",
    "- **Статистика + А/Б тесты** - [Practicum](https://practicum.yandex.ru/profile/statistics-basic/?from=profile_subscriptions-with-prof-recommendations)\n",
    "- **Теория вероятности** - курс довольно сложный, сам не прошел до конца: [Stepik](https://stepik.org/course/3089/syllabus?search=4164939164)\n",
    "- **math** - На ютубе есть переводы видосов на русский язык: [3Blue1Brown](https://www.youtube.com/@3blue1brown)\n",
    "\n",
    "---\n",
    "\n",
    "Не стесняйтесь задавать вопросы в сообществах! Возможно, это не очевидно, но сообщество ML в СНГ очень дружелюбное и отзывчивое. Даже если вы столкнетесь с человеком, который посмеется над вами или попытается самоутвердиться за ваш счет, не расстраивайтесь! Найдутся и те, кто с удовольствием объяснит и подружится с вами.\n",
    "\n",
    "Учтите, что в сообществах принято уважать время друг друга. Поэтому вопросы, ответы на которые легко находятся в первых результатах поиска, могут быть восприняты как неуважение. Старайтесь задавать только те вопросы, на изучение которых вы уже потратили какое-то время, исследуя различные источники.\n",
    "\n",
    "Пример плохого вопроса: \n",
    "- \"Какие есть неизменяемые типы данных в Python?\"\n",
    "\n",
    "Пример хорошего вопроса: \n",
    "- \"Привет, ребята! Я изучаю неизменяемые типы данных в Python. Из того, что я нашел в интернете, это - int, float, tuple, frozenset, str. Есть ли еще какие-нибудь типы данных, которые я не учел? Спасибо!\"\n"
   ]
  },
  {
   "cell_type": "markdown",
   "metadata": {},
   "source": []
  }
 ],
 "metadata": {
  "kernelspec": {
   "display_name": "dead_insider_started_pack",
   "language": "python",
   "name": "python3"
  },
  "language_info": {
   "codemirror_mode": {
    "name": "ipython",
    "version": 3
   },
   "file_extension": ".py",
   "mimetype": "text/x-python",
   "name": "python",
   "nbconvert_exporter": "python",
   "pygments_lexer": "ipython3",
   "version": "3.12.3"
  }
 },
 "nbformat": 4,
 "nbformat_minor": 2
}
